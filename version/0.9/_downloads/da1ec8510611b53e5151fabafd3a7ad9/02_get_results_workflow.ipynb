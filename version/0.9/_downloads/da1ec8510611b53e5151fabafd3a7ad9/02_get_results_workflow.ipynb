{
  "cells": [
    {
      "cell_type": "markdown",
      "metadata": {},
      "source": [
        "# Get Results workflow\n\nThis example shows how to use PyConcentEV to get a list of result\nparameters from a list of design[instance_ids]{#instance_ids} These\nlists are provided in design[instance_ids.csv]{#instance_ids.csv}\n\n:::: warning\n::: title\nWarning\n:::\n\nAssumes a front and rear motor architecture. Assumes a specific drive\ncycle result is available. If short results is true it gets in User\nUnits Assumes first job in list for each project is the result we want.\n::::\n"
      ]
    },
    {
      "cell_type": "markdown",
      "metadata": {},
      "source": [
        "# Perform required imports\n\nGet the necessary imports.\n"
      ]
    },
    {
      "cell_type": "code",
      "execution_count": null,
      "metadata": {
        "collapsed": false
      },
      "outputs": [],
      "source": [
        "import datetime\nimport json\nimport time\n\nimport matplotlib.pyplot as plt\nimport pandas as pd\n\nfrom ansys.conceptev.core import app\nfrom ansys.conceptev.core.settings import settings\n\nOCM_URL = settings.ocm_url"
      ]
    },
    {
      "cell_type": "markdown",
      "metadata": {},
      "source": [
        "# Inputs\n\nChange the following variables to match your data.\n"
      ]
    },
    {
      "cell_type": "code",
      "execution_count": null,
      "metadata": {
        "collapsed": false
      },
      "outputs": [],
      "source": [
        "short_results = True  # For results created after 15/11/2024 improved performance.\nget_results_off_server = True  # Generates an output file that can be read later.\noutput_filename = \"results.xlsx\"  # Output filename for results."
      ]
    },
    {
      "cell_type": "markdown",
      "metadata": {},
      "source": [
        "# Generate and run templates\n\nThis function generates a new project and runs a template for each\ndesign[instance_id]{#instance_id} The\ndesign[instance_ids]{#instance_ids} are returned for later use.\n"
      ]
    },
    {
      "cell_type": "code",
      "execution_count": null,
      "metadata": {
        "collapsed": false
      },
      "outputs": [],
      "source": [
        "def generate_and_run_templates(client, account_id, hpc_id):\n    token = app.get_token(client)\n    project_id = app.create_new_project(\n        client, account_id, hpc_id, f\"New Project {datetime.datetime.now()}\"\n    )\n    template_ids = [\"ae7ca4d7-4bac-48f5-be42-d5f0b6a24b00\"]\n    design_instance_ids = []\n    for template_id in template_ids:\n        design_instance_id = app.create_design_instance(\n            project_id[\"projectId\"], f\"New Concept {datetime.datetime.now()}\", token\n        )\n        concept = app.copy_concept(template_id, design_instance_id, client)\n        job_info = app.create_submit_job(\n            client,\n            concept,\n            account_id,\n            hpc_id,\n            job_name=f\"cli_job: {datetime.datetime.now().strftime('%Y-%m-%d %H:%M:%S.%f')}\",\n        )\n        design_instance_ids.append(design_instance_id)\n    return design_instance_ids"
      ]
    },
    {
      "cell_type": "markdown",
      "metadata": {},
      "source": [
        "# Create a client and set up projects\n\nGets the account[id]{#id} and hpc[id]{#id} Generates and runs templates\n"
      ]
    },
    {
      "cell_type": "code",
      "execution_count": null,
      "metadata": {
        "collapsed": false
      },
      "outputs": [],
      "source": [
        "with app.get_http_client() as client:\n    token = app.get_token(client)\n    account_id = app.get_account_id(token)\n    hpc_id = app.get_default_hpc(token, account_id)\n    design_instance_ids = generate_and_run_templates(client, account_id, hpc_id)"
      ]
    },
    {
      "cell_type": "markdown",
      "metadata": {},
      "source": [
        "# Get the project results\n\nThis code gets the project results from the ConceptEV API.\n"
      ]
    },
    {
      "cell_type": "code",
      "execution_count": null,
      "metadata": {
        "collapsed": false
      },
      "outputs": [],
      "source": [
        "def get_project_results(client, design_instance_id):\n    \"\"\"Get the project results from ConceptEV API.\n\n    Assumes the first results only.\n    \"\"\"\n    token = app.get_token(client)\n    client.params = {\"design_instance_id\": design_instance_id}\n    concept = app.get(client, \"/concepts\", id=design_instance_id)\n\n    job_id = concept[\"jobs_ids\"][0]  # get ONLY the first id from each project.\n    job_info = app.get_job_info(token, job_id)\n    results = app.read_results(\n        client, job_info, calculate_units=short_results, filtered=short_results\n    )\n    # Need to get, Project Name, Component Name, Cost\n    arch_id = concept[\"architecture_id\"]\n    architecture = app.get(client, f\"/architectures/{arch_id}\")\n    project_results = {\n        \"architecture\": architecture,\n        \"cost\": architecture[\"components_cost\"],\n        \"design_instance_id\": design_instance_id,\n        \"component_map\": app.get_component_id_map(client, design_instance_id),\n        \"design_name\": app.get_design_title(token, design_instance_id),\n        \"results\": results,\n    }\n    return project_results"
      ]
    },
    {
      "cell_type": "markdown",
      "metadata": {},
      "source": [
        "# Get the project results from a list of design[instance_ids]{#instance_ids}\n\nThis code gets the project results from a list of design instance ids.\n"
      ]
    },
    {
      "cell_type": "code",
      "execution_count": null,
      "metadata": {
        "collapsed": false
      },
      "outputs": [],
      "source": [
        "def get_results(design_instance_ids):\n    \"\"\"Get results from a list of design instance ids.\"\"\"\n\n    with app.get_http_client() as client:\n        client.timeout = 2000\n        project_results = [\n            get_project_results(client, design_instance_id)\n            for design_instance_id in design_instance_ids\n        ]\n    return project_results"
      ]
    },
    {
      "cell_type": "markdown",
      "metadata": {},
      "source": [
        "# Get component name from project results.\n\nThis code gets the component name from the project results.\n"
      ]
    },
    {
      "cell_type": "code",
      "execution_count": null,
      "metadata": {
        "collapsed": false
      },
      "outputs": [],
      "source": [
        "def get_component_name(project_result, name):\n    \"\"\"Get Component Name or returns empty string.\"\"\"\n    name = project_result[\"component_map\"].get(project_result[\"architecture\"][name], \"\")\n    return name"
      ]
    },
    {
      "cell_type": "markdown",
      "metadata": {},
      "source": [
        "# Get results for a drive cycle requirement.\n\nGet the results for a drive cycle requirement.\n"
      ]
    },
    {
      "cell_type": "code",
      "execution_count": null,
      "metadata": {
        "collapsed": false
      },
      "outputs": [],
      "source": [
        "def get_drive_cycle_result(project_result, name):\n    \"\"\"Assumes the first requirement in a concept with the matching name is the one we want.\"\"\"\n    requirement = [\n        result for result in project_result[\"results\"] if result[\"requirement\"][\"name\"] == name\n    ][0]\n    return requirement"
      ]
    },
    {
      "cell_type": "markdown",
      "metadata": {},
      "source": [
        "# Getting all the results.\n\nFirst get results of the server or load from file.\n"
      ]
    },
    {
      "cell_type": "code",
      "execution_count": null,
      "metadata": {
        "collapsed": false
      },
      "outputs": [],
      "source": [
        "if get_results_off_server:\n    time.sleep(20)  # Wait for the server to process the results.\n    project_results = get_results(design_instance_ids)\n    with open(\"project_results.json\", \"w\") as f:\n        json.dump(project_results, f)\nelse:\n    with open(\"project_results.json\", \"r\") as f:\n        project_results = json.load(f)"
      ]
    },
    {
      "cell_type": "markdown",
      "metadata": {},
      "source": [
        "# Output the results to Excel File.\n\nCreate an output results list to store outputs. Loop through all\nresults. Get the data we want to output. Place in a records list for\neach row of Excel file.\n"
      ]
    },
    {
      "cell_type": "code",
      "execution_count": null,
      "metadata": {
        "collapsed": false
      },
      "outputs": [],
      "source": [
        "output_results = []\nfor (\n    project_result\n) in project_results:  # For each project results get the data we want to output into the row.\n\n    # Parse the results we are interested in.\n    steady_drive = get_drive_cycle_result(project_result, \"180 km/h\")\n\n    # Get the Component Names for each of components we are interested in.\n    front_tranmsission_name = (\n        get_component_name(project_result, \"front_transmission_id\") + \" (Front)\"\n    )\n    front_motor_name = get_component_name(project_result, \"front_motor_id\") + \" (Front)\"\n    front_inverter_name = get_component_name(project_result, \"front_inverter_id\") + \" (Front)\"\n    front_disconnect_clutch_name = (\n        get_component_name(project_result, \"front_clutch_id\") + \" (Front)\"\n    )\n    rear_transmission_name = get_component_name(project_result, \"rear_transmission_id\") + \" (Rear)\"\n    rear_motor_name = get_component_name(project_result, \"rear_motor_id\") + \" (Rear)\"\n    rear_inverter_name = get_component_name(project_result, \"rear_inverter_id\") + \" (Rear)\"\n    rear_disconnect_clutch_name = get_component_name(project_result, \"rear_clutch_id\") + \" (Rear)\"\n    battery_name = get_component_name(project_result, \"battery_id\")\n\n    # Creating a records list for each row.\n    output_results.append(\n        {\n            \"Project Name\": project_result[\"design_name\"],\n            \"Design Instance Id\": project_result[\"design_instance_id\"],\n            \"Front Transmission\": front_tranmsission_name,\n            \"Front Motor\": front_motor_name,\n            \"Front Inverter\": front_inverter_name,\n            \"Rear Transmission\": rear_inverter_name,\n            \"Rear Motor\": rear_motor_name,\n            \"Rear Inverter\": rear_inverter_name,\n            \"Battery\": battery_name,\n            \"Cost\": project_result[\"cost\"],\n            \"total_tractive_power\": steady_drive[\"requirement\"][\"total_tractive_power\"],\n            # Extend as required to add the data you need.\n        }\n    )"
      ]
    },
    {
      "cell_type": "markdown",
      "metadata": {},
      "source": [
        "# Output the results to Excel File.\n\nConvert the output results to a pandas DataFrame. Output the results to\nan Excel file.\n"
      ]
    },
    {
      "cell_type": "code",
      "execution_count": null,
      "metadata": {
        "collapsed": false
      },
      "outputs": [],
      "source": [
        "all_results = pd.DataFrame(output_results)  # Convert to Pandas DataFrame\nplt.plot(all_results[\"Cost\"], all_results[\"total_tractive_power\"], \"*\")  # Plot the results.\nplt.show()\n\nall_results.to_excel(output_filename)  # Output to excel."
      ]
    }
  ],
  "metadata": {
    "kernelspec": {
      "display_name": "Python 3",
      "language": "python",
      "name": "python3"
    },
    "language_info": {
      "codemirror_mode": {
        "name": "ipython",
        "version": 3
      },
      "file_extension": ".py",
      "mimetype": "text/x-python",
      "name": "python",
      "nbconvert_exporter": "python",
      "pygments_lexer": "ipython3",
      "version": "3.13.3"
    }
  },
  "nbformat": 4,
  "nbformat_minor": 0
}