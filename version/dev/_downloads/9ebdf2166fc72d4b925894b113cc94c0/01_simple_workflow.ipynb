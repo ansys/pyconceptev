{
  "cells": [
    {
      "cell_type": "markdown",
      "metadata": {},
      "source": [
        "# Simple workflow\n\nThis example shows how to use PyConcentEV to perform basic operations. -\nRequired imports - Define example data - Get a token from Ansys ID - Use\nAPI client for the Ansys ConceptEV service\n"
      ]
    },
    {
      "cell_type": "markdown",
      "metadata": {},
      "source": [
        "# Perform Required imports\n"
      ]
    },
    {
      "cell_type": "code",
      "execution_count": null,
      "metadata": {
        "collapsed": false
      },
      "outputs": [],
      "source": [
        "import datetime\nfrom pathlib import Path\n\nimport matplotlib.pyplot as plt\n\nfrom ansys.conceptev.core import app"
      ]
    },
    {
      "cell_type": "markdown",
      "metadata": {},
      "source": [
        "# Define example data\n\nYou can obtain example data from the schema sections of the API\ndocumentation.\n"
      ]
    },
    {
      "cell_type": "code",
      "execution_count": null,
      "metadata": {
        "collapsed": false
      },
      "outputs": [],
      "source": [
        "MOTOR_LAB_FILE = Path(\"resources\") / \"e9.lab\"\nMOTOR_LOSS_MAP_FILE = Path(\"resources\") / \"e9.xlsx\"\nAERO_1 = {\n    \"name\": \"New Aero Config\",\n    \"drag_coefficient\": 0.3,\n    \"cross_sectional_area\": 2,\n    \"config_type\": \"aero\",\n}\n\nAERO_2 = {\n    \"name\": \"Second Aero Configuration\",\n    \"drag_coefficient\": 0.6,\n    \"cross_sectional_area\": 3,\n    \"config_type\": \"aero\",\n}\n\nMASS = {\n    \"name\": \"New Mass Config\",\n    \"mass\": 3000,\n    \"config_type\": \"mass\",\n}\n\nWHEEL = {\n    \"name\": \"New Wheel Config\",\n    \"rolling_radius\": 0.3,\n    \"config_type\": \"wheel\",\n}\n\nTRANSMISSION = {\n    \"gear_ratios\": [5],\n    \"headline_efficiencies\": [0.95],\n    \"max_torque\": 500,\n    \"max_speed\": 2000,\n    \"static_drags\": [0.5],\n    \"friction_ratios\": [60],\n    \"windage_ratios\": [40],\n    \"component_type\": \"TransmissionLossCoefficients\",\n}\n\nBATTERY = {\n    \"capacity\": 86400000,\n    \"charge_acceptance_limit\": 0,\n    \"component_type\": \"BatteryFixedVoltages\",\n    \"internal_resistance\": 0.1,\n    \"name\": \"New Battery\",\n    \"voltage_max\": 400,\n    \"voltage_mid\": 350,\n    \"voltage_min\": 300,\n}\n\nmotor_data = {\"name\": \"e9\", \"component_type\": \"MotorLabID\", \"inverter_losses_included\": False}"
      ]
    },
    {
      "cell_type": "markdown",
      "metadata": {},
      "source": [
        "# Use API client for the Ansys ConceptEV service\n\nUse the API client to perform basic operations on the Ansys ConceptEV\nservice. Such as: - Check api connection is healthy. - Get the account\nID and HPC ID. - Create a new project. - Create a new concept within\nthat project.\n"
      ]
    },
    {
      "cell_type": "code",
      "execution_count": null,
      "metadata": {
        "collapsed": false
      },
      "outputs": [],
      "source": [
        "with app.get_http_client() as client:\n    health = app.get(client, \"/health\")\n    print(f\"API is healthy: {health}\\n\")\n    token = app.get_token(client)\n    account_id = app.get_account_id(token)\n\n    hpc_id = app.get_default_hpc(token, account_id)\n    product_id = app.get_product_id(token)\n    # Uncomment to print HPC ID\n    # print(f\"HPC ID: {hpc_id}\\n\")\n    # Create a project\n    project = app.create_new_project(\n        client, account_id, hpc_id, f\"New Project +{datetime.datetime.now()}\"\n    )\n    print(f\"ID of the created project: {project['projectId']}\")\n\n    # Create a concept with that project\n\n    concept = app.create_new_concept(\n        client, project[\"projectId\"], product_id, f\"New Concept +{datetime.datetime.now()}\"\n    )\n    print(f\"ID of the created concept: {concept['id']}\")"
      ]
    },
    {
      "cell_type": "markdown",
      "metadata": {},
      "source": [
        "# Perform basic operations\n\nPerform basic operations on the design instance associated with the new\nproject. Such as: - Create configurations. - Create components. - Create\narchitectures. - Create requirements. - Create and submit a job. - Read\nthe results and show the result in your browser.\n"
      ]
    },
    {
      "cell_type": "code",
      "execution_count": null,
      "metadata": {
        "collapsed": false
      },
      "outputs": [],
      "source": [
        "design_instance_id = concept[\"design_instance_id\"]\n\nwith app.get_http_client(design_instance_id=design_instance_id) as client:\n\n    # Create configurations\n    created_aero = app.post(client, \"/configurations\", data=AERO_1)\n    created_aero2 = app.post(client, \"/configurations\", data=AERO_2)\n    created_mass = app.post(client, \"/configurations\", data=MASS)\n    created_wheel = app.post(client, \"/configurations\", data=WHEEL)\n\n    # Read all aero configurations\n    configurations = app.get(\n        client, f\"/concepts/{design_instance_id}/configurations\", params={\"config_type\": \"aero\"}\n    )\n    # Uncomment to print configurations\n    # print(f\"List of configurations: {configurations}\\n\")\n\n    # Get a specific aero configuration\n    aero = app.get(client, \"/configurations\", id=created_aero[\"id\"])\n    print(f\"First created areo configuration: {aero}\\n\")\n\n    # Create component\n    created_transmission = app.post(client, \"/components\", data=TRANSMISSION)\n\n    # Create component from file\n    motor_lab = app.post_component_file(client, MOTOR_LAB_FILE, \"motor_lab_file\")\n    motor_data[\"data_id\"] = motor_lab[0]\n    motor_data[\"max_speed\"] = motor_lab[1]\n\n    created_motor_lab = app.post(client, \"/components\", data=motor_data)\n    print(f\"Created motor: {created_motor_lab}\\n\")\n\n    # Create loss map motor component from file\n    client.timeout = 2000\n    motor_loss_map = app.post_component_file(client, MOTOR_LOSS_MAP_FILE, \"motor_torque_grid_file\")\n    loss_map_motor_data = {\n        \"name\": \"e9_loss_map\",\n        \"component_type\": \"MotorLossMapID\",\n        \"poles\": 8,\n        \"data_id\": motor_loss_map[0],\n    }\n\n    created_motor = app.post(client, \"/components\", data=loss_map_motor_data)\n    print(f\"Created motor: {created_motor}\\n\")\n\n    # Extend client timeout to get loss map from the motor\n    client.timeout = 2000\n    motor_loss_map = app.post(\n        client,\n        \"/components:get_display_data\",\n        data={},\n        params={\"component_id\": created_motor_lab[\"id\"]},\n    )\n\n    # Show a figure of the loss map from the motor in you browser\n    x = motor_loss_map[\"currents\"]\n    y = motor_loss_map[\"phase_advances\"]\n    z = motor_loss_map[\"losses_total\"]\n\n    fig, ax = plt.subplots()\n    im = ax.pcolormesh(x, y, z)\n    ax.set_xlabel(\"Currents (A)\")\n    ax.set_ylabel(\"Phase Advances (deg)\")\n    fig.colorbar(im, ax=ax, label=\"Total Losses (W)\")\n    plt.show()\n\n    created_battery = app.post(client, \"/components\", data=BATTERY)\n\n    # Create an architecture\n    architecture = {\n        \"number_of_front_wheels\": 2,\n        \"number_of_front_motors\": 1,\n        \"front_transmission_id\": created_transmission[\"id\"],\n        \"front_motor_id\": created_motor[\"id\"],\n        \"number_of_rear_wheels\": 2,\n        \"number_of_rear_motors\": 0,\n        \"battery_id\": created_battery[\"id\"],\n    }\n    created_arch = app.post(client, \"/architectures\", data=architecture)\n    print(f\"Created architecture: {created_arch}\\n\")\n\n    # Create a requirement\n    requirement = {\n        \"speed\": 10,\n        \"acceleration\": 1,\n        \"aero_id\": created_aero[\"id\"],\n        \"mass_id\": created_mass[\"id\"],\n        \"wheel_id\": created_wheel[\"id\"],\n        \"state_of_charge\": 0.9,\n        \"requirement_type\": \"static_acceleration\",\n        \"name\": \"Static Requirement 1\",\n    }\n    created_requirement = app.post(client, \"requirements\", data=requirement)\n    print(f\"Created requirement: {created_requirement}\")\n\n    # Create and submit a job\n    concept = app.get(client, \"/concepts\", id=design_instance_id, params={\"populated\": True})\n    job_info = app.create_submit_job(client, concept, account_id, hpc_id)\n\n    # Read and plot the results\n    results = app.read_results(client, job_info, calculate_units=False, filtered=True)\n    x = results[0][\"capability_curve\"][\"speeds\"]\n    y = results[0][\"capability_curve\"][\"torques\"]\n\n    fig, ax = plt.subplots()\n    fig = ax.scatter(x, y, label=\"Capability Curve\")\n    ax.set_xlabel(\"Speed (rad/s)\")\n    ax.set_ylabel(\"Torque (Nm)\")\n    plt.show()"
      ]
    },
    {
      "cell_type": "markdown",
      "metadata": {},
      "source": [
        "# Delete the extra project on the server.\n\nDelete the project on the server.\n\n:::: warning\n::: title\nWarning\n:::\n\nThis will delete the project and all its contents. Only needed for keep\ntest environment clean.\n::::\n"
      ]
    },
    {
      "cell_type": "code",
      "execution_count": null,
      "metadata": {
        "collapsed": false
      },
      "outputs": [],
      "source": [
        "with app.get_http_client() as client:\n\n    client.params = client.params.set(\"design_instance_id\", concept[\"design_instance_id\"])\n    app.delete(client, \"concepts\", id=concept[\"id\"])\n    app.delete_project(concept[\"project_id\"], token)\n    print(f\"Deleted project {concept['project_id']}\")"
      ]
    }
  ],
  "metadata": {
    "kernelspec": {
      "display_name": "Python 3",
      "language": "python",
      "name": "python3"
    },
    "language_info": {
      "codemirror_mode": {
        "name": "ipython",
        "version": 3
      },
      "file_extension": ".py",
      "mimetype": "text/x-python",
      "name": "python",
      "nbconvert_exporter": "python",
      "pygments_lexer": "ipython3",
      "version": "3.13.5"
    }
  },
  "nbformat": 4,
  "nbformat_minor": 0
}