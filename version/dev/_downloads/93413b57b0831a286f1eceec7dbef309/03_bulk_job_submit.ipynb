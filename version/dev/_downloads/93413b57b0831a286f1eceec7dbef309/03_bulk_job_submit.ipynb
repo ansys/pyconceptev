{
  "cells": [
    {
      "cell_type": "markdown",
      "metadata": {},
      "source": [
        "# Bulk Job Submit.\n\nExample Script to bulk submit jobs to the ConceptEV API. This example\ncopies the template into a project and runs a number of jobs with\ndifferent combinations of components. The combinations of components are\nspecified in a CSV file format.\n"
      ]
    },
    {
      "cell_type": "markdown",
      "metadata": {},
      "source": [
        "# Perform Required imports\n"
      ]
    },
    {
      "cell_type": "code",
      "execution_count": null,
      "metadata": {
        "collapsed": false
      },
      "outputs": [],
      "source": [
        "import datetime\n\nimport pandas as pd\n\nfrom ansys.conceptev.core import app\nfrom ansys.conceptev.core.exceptions import ResponseError"
      ]
    },
    {
      "cell_type": "markdown",
      "metadata": {},
      "source": [
        "# Set up inputs.\n\nChange the following variables to match your data. The current filename\nfor combinations can be used as an example. The current\nbase[concept_id]{#concept_id} is a template concept that will be copied.\nComponent Order is dictionary that maps the column names in the\ncombinations file to the component names in the API.\n"
      ]
    },
    {
      "cell_type": "code",
      "execution_count": null,
      "metadata": {
        "collapsed": false
      },
      "outputs": [],
      "source": [
        "filename = \"resources/combinations.csv\"  # See example file for format.\nbase_concept_id = \"2465235f-ad2e-4923-9125-e2e69ccf5816\"  # Truck template.\ncomponent_order = {\n    \"front_transmission_id\": \"Front Transmission\",\n    \"front_motor_id\": \"Front Motor\",\n    \"front_inverter_id\": \"Front Inverter\",\n    \"rear_transmission_id\": \"Rear Transmission\",\n    \"rear_motor_id\": \"Rear Motor\",\n    \"rear_inverter_id\": \"Rear Inverter\",\n    \"battery_id\": \"Battery\",\n    \"front_clutch_id\": \"Front Clutch\",\n    \"rear_clutch_id\": \"Rear Clutch\",\n}\n\n\ndef update_architecture(components, combo, base_architecture):\n    # Update Architecture to match the new combinations.\n    arch = {key: components[combo[value]] for key, value in component_order.items()}\n    arch[\"number_of_front_wheels\"] = base_architecture[\"number_of_front_wheels\"]\n    arch[\"number_of_front_motors\"] = base_architecture[\"number_of_front_motors\"]\n    arch[\"number_of_rear_wheels\"] = base_architecture[\"number_of_rear_wheels\"]\n    arch[\"number_of_rear_motors\"] = base_architecture[\"number_of_rear_motors\"]\n    arch[\"wheelbase\"] = base_architecture[\"wheelbase\"]\n    return arch"
      ]
    },
    {
      "cell_type": "markdown",
      "metadata": {},
      "source": [
        "# Create a client and create a new project from template.\n\nAuthenticate and get a token Create an API client. Get the account ID\nand HPC ID. Copy the template into a new project. Add a clutch to the\nconcept. Get the component IDs for the new concept. Get the architecture\nfor the new concept.\n"
      ]
    },
    {
      "cell_type": "code",
      "execution_count": null,
      "metadata": {
        "collapsed": false
      },
      "outputs": [],
      "source": [
        "# Use API client for the Ansys ConceptEV service\nwith app.get_http_client() as client:\n    client.timeout = 200  # Extend timeout for uploading files.\n    token = app.get_token(client)\n    accounts = app.get_account_ids(token)\n    account_id = accounts[\"conceptev_saas@ansys.com\"]\n    hpc_id = app.get_default_hpc(token, account_id)\n\n    project = app.create_new_project(\n        client, account_id, hpc_id, f\"New Project {datetime.datetime.now()}\"\n    )\n    project_id = project[\"projectId\"]\n    design_instance_id = app.create_design_instance(\n        project_id, f\"New Concept {datetime.datetime.now()}\", token\n    )\n    app.copy_concept(base_concept_id, design_instance_id, client)\n    base_concept_id = design_instance_id\n    app.post(\n        client,\n        \"/components\",\n        data={\n            \"item_type\": \"component\",\n            \"name\": \"Disconnect Clutch\",\n            \"mass\": 0,\n            \"moment_of_inertia\": 0,\n            \"cost\": 0,\n            \"component_type\": \"ClutchInput\",\n            \"efficiency\": \"95\",\n            \"switch_energy\": \"10\",\n            \"engaged_power\": 0,\n        },\n        params={\"design_instance_id\": base_concept_id},\n    )\n    base_components = app.get_component_id_map(client, base_concept_id)\n\n    base_concept = app.get(client, f\"/concepts/{base_concept_id}\")\n    base_architecture = app.get(\n        client,\n        f\"/architectures/{base_concept['architecture_id']}\",\n        params={\"design_instance_id\": base_concept_id},\n    )"
      ]
    },
    {
      "cell_type": "markdown",
      "metadata": {},
      "source": [
        "# Read combinations from a csv file and check they match the combinations file.\n\nRead combinations from a csv file. Get the component types from the\ncomponent[order]{#order} dictionary. Turn them into set. Check that the\ncomponent types are in the combinations file. Get the component names\nfrom the combinations. Check the component names are in the base\ncomponents.\n"
      ]
    },
    {
      "cell_type": "code",
      "execution_count": null,
      "metadata": {
        "collapsed": false
      },
      "outputs": [],
      "source": [
        "combinations = pd.read_csv(filename, na_filter=False)\ncombinations = combinations.to_dict(\"records\")\n\n# Check the component types are in the header of the combinations file.\ncomponent_types = set(component_order.values())\ncomponent_types_from_combo_header = set(combinations[0].keys())\nassert component_types <= component_types_from_combo_header, component_types.difference(\n    component_types_from_combo_header\n)\n# Check the component names in the combinations file are in the base components.\ncomponent_names_from_combo = set([value for combo in combinations for value in combo.values()])\ncomponent_names_from_base = set(base_components.keys())\nassert (\n    component_names_from_combo <= component_names_from_base\n), component_names_from_combo.difference(component_names_from_base)"
      ]
    },
    {
      "cell_type": "markdown",
      "metadata": {},
      "source": [
        "# Submit jobs for each combination.\n\nCreate a new design instance with title. Create an output list to store\nthe created designs. Copy the base Concept into that new design\ninstance. Get the component IDs for the new design instance as they\nchange when copied. Change the base concept to use the new components.\nUpdate the architecture on the server. Update the local concept instance\nwith the new architecture id. Create and submit a job using the new\nconcept (with the new architecture).\n"
      ]
    },
    {
      "cell_type": "code",
      "execution_count": null,
      "metadata": {
        "collapsed": false
      },
      "outputs": [],
      "source": [
        "with app.get_http_client() as client:\n    token = app.get_token(client)\n    created_designs = []\n    # Submit jobs for each combination\n    for combo in combinations:\n        try:\n            # Create a new design instance with title.\n            title = f\"F_{combo['Front Motor']}_R_{combo['Rear Motor']} {datetime.datetime.now()}\"\n            design_instance_id = app.create_design_instance(project_id, title=title, token=token)\n\n            # Copy base Concept into that new design instance.\n            concept = app.copy_concept(base_concept_id, design_instance_id, client)\n            print(f\"ID of the cloned concept: {concept['id']}\")\n            # Save that in output list.\n            created_designs.append(\n                {\n                    \"Project Name\": title,\n                    \"Design Instance Id\": design_instance_id,\n                    \"Concept_ID\": concept[\"id\"],\n                },\n            )\n            # Get the component IDs for the new design instance as they change when copied.\n            params = {\"design_instance_id\": design_instance_id}\n            components = app.get_component_id_map(client, design_instance_id)\n            # Change the base concept to use the new components.\n            updated_architecture = update_architecture(components, combo, base_architecture)\n            # Update the architecture on the server.\n            created_arch = app.post(client, \"/architectures\", data=updated_architecture)\n            print(f\"Created architecture: {created_arch}\\n\")\n\n            # Update the local concept instance with the new architecture id.\n            concept[\"architecture_id\"] = created_arch[\"id\"]\n\n            # Create and submit a job using the new concept (with the new architecture)\n            job_info = app.create_submit_job(\n                client,\n                concept,\n                account_id,\n                hpc_id,\n                job_name=f\"cli_job: {datetime.datetime.now().strftime('%Y-%m-%d %H:%M:%S.%f')}\",\n            )\n            print(f\"Submitted job for combination {combo}: {job_info}\")\n        except ResponseError as err:\n            print(f\"Failed to submit job for combination {combo}: {err}\")\n            continue  # If one job fails to submit keep trying the other jobs."
      ]
    },
    {
      "cell_type": "markdown",
      "metadata": {},
      "source": [
        "# Save the list of created designs to a file.\n\nCreate a pandas dataframe. Export to Excel.\n"
      ]
    },
    {
      "cell_type": "code",
      "execution_count": null,
      "metadata": {
        "collapsed": false
      },
      "outputs": [],
      "source": [
        "all_results = pd.DataFrame(created_designs)\nall_results.to_excel(\"created_designs.xlsx\")"
      ]
    },
    {
      "cell_type": "markdown",
      "metadata": {},
      "source": [
        "# Delete the extra project on the server.\n\nDelete the project on the server.\n\n:::: warning\n::: title\nWarning\n:::\n\nThis will delete the project and all its contents. Only needed for keep\ntest environment clean.\n::::\n"
      ]
    },
    {
      "cell_type": "code",
      "execution_count": null,
      "metadata": {
        "collapsed": false
      },
      "outputs": [],
      "source": [
        "with app.get_http_client() as client:\n    for concept in created_designs:\n        client.params = client.params.set(\"design_instance_id\", concept[\"Design Instance Id\"])\n        app.delete(client, \"concepts\", id=concept[\"Concept_ID\"])\n    app.delete_project(project_id, token)\n    print(f\"Deleted project {project_id}\")"
      ]
    }
  ],
  "metadata": {
    "kernelspec": {
      "display_name": "Python 3",
      "language": "python",
      "name": "python3"
    },
    "language_info": {
      "codemirror_mode": {
        "name": "ipython",
        "version": 3
      },
      "file_extension": ".py",
      "mimetype": "text/x-python",
      "name": "python",
      "nbconvert_exporter": "python",
      "pygments_lexer": "ipython3",
      "version": "3.13.5"
    }
  },
  "nbformat": 4,
  "nbformat_minor": 0
}